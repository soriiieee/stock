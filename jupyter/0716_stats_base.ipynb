{
 "cells": [
  {
   "cell_type": "code",
   "execution_count": 1,
   "metadata": {},
   "outputs": [
    {
     "data": {
      "text/plain": [
       "['/usr/local/src/pyenv/versions/miniconda3-4.3.27/lib/python36.zip',\n",
       " '/usr/local/src/pyenv/versions/miniconda3-4.3.27/lib/python3.6',\n",
       " '/usr/local/src/pyenv/versions/miniconda3-4.3.27/lib/python3.6/lib-dynload',\n",
       " '',\n",
       " '/home/griduser/.local/lib/python3.6/site-packages',\n",
       " '/usr/local/src/pyenv/versions/miniconda3-4.3.27/lib/python3.6/site-packages',\n",
       " '/home/griduser/.local/lib/python3.6/site-packages/IPython/extensions',\n",
       " '/home/griduser/.ipython',\n",
       " '/home/griduser/tool']"
      ]
     },
     "execution_count": 1,
     "metadata": {},
     "output_type": "execute_result"
    }
   ],
   "source": [
    "# basic-module\n",
    "import matplotlib.pyplot as plt\n",
    "import sys\n",
    "import os\n",
    "import pandas as pd\n",
    "import numpy as np\n",
    "import warnings\n",
    "warnings.simplefilter('ignore')\n",
    "#---------------------------------------------------\n",
    "# sori -module\n",
    "sys.path.append('/home/griduser/tool')\n",
    "from getErrorValues import me,rmse,mae,r2 #(x,y)\n",
    "#---------------------------------------------------------------------------\n",
    "#---------------------------------------------------------------------------\n",
    "# initial\n",
    "#\n",
    "from datetime import datetime\n",
    "# import quandl\n",
    "import pandas_datareader.data as web\n",
    "from pandas_datareader.nasdaq_trader import get_nasdaq_symbols\n",
    "from tqdm import tqdm\n",
    "sys.path"
   ]
  },
  {
   "cell_type": "code",
   "execution_count": 2,
   "metadata": {},
   "outputs": [],
   "source": [
    "# os.listdir(\"/home/griduser/tool\")\n",
    "sys.path.append(\"/home/griduser/work/sori-py2/stock/tool\")\n",
    "# from m01_stock import mk_mvave, mk_profit, mk_log_profit\n",
    "# mk_mvave\n",
    "from m01_stock import StockAnalysis"
   ]
  },
  {
   "cell_type": "code",
   "execution_count": 3,
   "metadata": {},
   "outputs": [
    {
     "name": "stdout",
     "output_type": "stream",
     "text": [
      "analysis class\n"
     ]
    }
   ],
   "source": [
    "st = StockAnalysis()"
   ]
  },
  {
   "cell_type": "code",
   "execution_count": null,
   "metadata": {},
   "outputs": [],
   "source": []
  },
  {
   "cell_type": "code",
   "execution_count": 4,
   "metadata": {},
   "outputs": [
    {
     "data": {
      "text/plain": [
       "0      116.150002\n",
       "1      116.019997\n",
       "2      116.610001\n",
       "3      117.910004\n",
       "4      118.989998\n",
       "          ...    \n",
       "884    383.010010\n",
       "885    383.679993\n",
       "886    381.910004\n",
       "887    388.230011\n",
       "888    390.899994\n",
       "Name: Close, Length: 889, dtype: float64"
      ]
     },
     "execution_count": 4,
     "metadata": {},
     "output_type": "execute_result"
    }
   ],
   "source": [
    "sys.path\n",
    "DIR=\"../dat/comp\"\n",
    "# for com in [\"AAPL\",\"MSFT\",\"NVDA\",\"INTC\",\"TSM\",\"SAP\",\"QCOM\"]:\n",
    "for com in [\"AAPL\"]:\n",
    "    input_path=f\"{DIR}/{com}.csv\"\n",
    "#     print(os.path.exists(input_path))\n",
    "    df = pd.read_csv(input_path)\n",
    "se = df[\"Close\"]\n",
    "se"
   ]
  },
  {
   "cell_type": "code",
   "execution_count": 5,
   "metadata": {},
   "outputs": [
    {
     "name": "stdout",
     "output_type": "stream",
     "text": [
      "analysis class\n"
     ]
    },
    {
     "data": {
      "text/plain": [
       "<m01_stock.StockAnalysis at 0x7f475425e3c8>"
      ]
     },
     "execution_count": 5,
     "metadata": {},
     "output_type": "execute_result"
    }
   ],
   "source": [
    "st = StockAnalysis()\n",
    "st"
   ]
  },
  {
   "cell_type": "code",
   "execution_count": 6,
   "metadata": {},
   "outputs": [],
   "source": [
    "df.head()\n",
    "df = st.calc(df,[10,30,90], colname=\"Close\")"
   ]
  },
  {
   "cell_type": "code",
   "execution_count": 7,
   "metadata": {},
   "outputs": [
    {
     "data": {
      "text/plain": [
       "Date          object\n",
       "High         float64\n",
       "Low          float64\n",
       "Open         float64\n",
       "Close        float64\n",
       "Volume       float64\n",
       "Adj Close    float64\n",
       "mv10         float64\n",
       "prf10        float64\n",
       "mv30         float64\n",
       "prf30        float64\n",
       "mv90         float64\n",
       "prf90        float64\n",
       "log_pro      float64\n",
       "dtype: object"
      ]
     },
     "execution_count": 7,
     "metadata": {},
     "output_type": "execute_result"
    }
   ],
   "source": [
    "df.head()\n",
    "df.dtypes"
   ]
  },
  {
   "cell_type": "code",
   "execution_count": 8,
   "metadata": {},
   "outputs": [
    {
     "data": {
      "text/html": [
       "<div>\n",
       "<style scoped>\n",
       "    .dataframe tbody tr th:only-of-type {\n",
       "        vertical-align: middle;\n",
       "    }\n",
       "\n",
       "    .dataframe tbody tr th {\n",
       "        vertical-align: top;\n",
       "    }\n",
       "\n",
       "    .dataframe thead th {\n",
       "        text-align: right;\n",
       "    }\n",
       "</style>\n",
       "<table border=\"1\" class=\"dataframe\">\n",
       "  <thead>\n",
       "    <tr style=\"text-align: right;\">\n",
       "      <th></th>\n",
       "      <th>Date</th>\n",
       "      <th>High</th>\n",
       "      <th>Low</th>\n",
       "      <th>Open</th>\n",
       "      <th>Close</th>\n",
       "      <th>Volume</th>\n",
       "      <th>Adj Close</th>\n",
       "      <th>mv10</th>\n",
       "      <th>prf10</th>\n",
       "      <th>mv30</th>\n",
       "      <th>prf30</th>\n",
       "      <th>mv90</th>\n",
       "      <th>prf90</th>\n",
       "      <th>log_pro</th>\n",
       "    </tr>\n",
       "  </thead>\n",
       "  <tbody>\n",
       "    <tr>\n",
       "      <th>0</th>\n",
       "      <td>2017-01-03</td>\n",
       "      <td>116.330002</td>\n",
       "      <td>114.760002</td>\n",
       "      <td>115.800003</td>\n",
       "      <td>116.150002</td>\n",
       "      <td>28781900.0</td>\n",
       "      <td>110.392334</td>\n",
       "      <td>NaN</td>\n",
       "      <td>NaN</td>\n",
       "      <td>NaN</td>\n",
       "      <td>NaN</td>\n",
       "      <td>NaN</td>\n",
       "      <td>NaN</td>\n",
       "      <td>0.000000</td>\n",
       "    </tr>\n",
       "    <tr>\n",
       "      <th>1</th>\n",
       "      <td>2017-01-04</td>\n",
       "      <td>116.510002</td>\n",
       "      <td>115.750000</td>\n",
       "      <td>115.849998</td>\n",
       "      <td>116.019997</td>\n",
       "      <td>21118100.0</td>\n",
       "      <td>110.268791</td>\n",
       "      <td>NaN</td>\n",
       "      <td>NaN</td>\n",
       "      <td>NaN</td>\n",
       "      <td>NaN</td>\n",
       "      <td>NaN</td>\n",
       "      <td>NaN</td>\n",
       "      <td>-0.001120</td>\n",
       "    </tr>\n",
       "    <tr>\n",
       "      <th>2</th>\n",
       "      <td>2017-01-05</td>\n",
       "      <td>116.860001</td>\n",
       "      <td>115.809998</td>\n",
       "      <td>115.919998</td>\n",
       "      <td>116.610001</td>\n",
       "      <td>22193600.0</td>\n",
       "      <td>110.829552</td>\n",
       "      <td>NaN</td>\n",
       "      <td>NaN</td>\n",
       "      <td>NaN</td>\n",
       "      <td>NaN</td>\n",
       "      <td>NaN</td>\n",
       "      <td>NaN</td>\n",
       "      <td>0.005072</td>\n",
       "    </tr>\n",
       "    <tr>\n",
       "      <th>3</th>\n",
       "      <td>2017-01-06</td>\n",
       "      <td>118.160004</td>\n",
       "      <td>116.470001</td>\n",
       "      <td>116.779999</td>\n",
       "      <td>117.910004</td>\n",
       "      <td>31751900.0</td>\n",
       "      <td>112.065109</td>\n",
       "      <td>NaN</td>\n",
       "      <td>NaN</td>\n",
       "      <td>NaN</td>\n",
       "      <td>NaN</td>\n",
       "      <td>NaN</td>\n",
       "      <td>NaN</td>\n",
       "      <td>0.011087</td>\n",
       "    </tr>\n",
       "    <tr>\n",
       "      <th>4</th>\n",
       "      <td>2017-01-09</td>\n",
       "      <td>119.430000</td>\n",
       "      <td>117.940002</td>\n",
       "      <td>117.949997</td>\n",
       "      <td>118.989998</td>\n",
       "      <td>33561900.0</td>\n",
       "      <td>113.091560</td>\n",
       "      <td>NaN</td>\n",
       "      <td>NaN</td>\n",
       "      <td>NaN</td>\n",
       "      <td>NaN</td>\n",
       "      <td>NaN</td>\n",
       "      <td>NaN</td>\n",
       "      <td>0.009118</td>\n",
       "    </tr>\n",
       "  </tbody>\n",
       "</table>\n",
       "</div>"
      ],
      "text/plain": [
       "         Date        High         Low        Open       Close      Volume  \\\n",
       "0  2017-01-03  116.330002  114.760002  115.800003  116.150002  28781900.0   \n",
       "1  2017-01-04  116.510002  115.750000  115.849998  116.019997  21118100.0   \n",
       "2  2017-01-05  116.860001  115.809998  115.919998  116.610001  22193600.0   \n",
       "3  2017-01-06  118.160004  116.470001  116.779999  117.910004  31751900.0   \n",
       "4  2017-01-09  119.430000  117.940002  117.949997  118.989998  33561900.0   \n",
       "\n",
       "    Adj Close  mv10  prf10  mv30  prf30  mv90  prf90   log_pro  \n",
       "0  110.392334   NaN    NaN   NaN    NaN   NaN    NaN  0.000000  \n",
       "1  110.268791   NaN    NaN   NaN    NaN   NaN    NaN -0.001120  \n",
       "2  110.829552   NaN    NaN   NaN    NaN   NaN    NaN  0.005072  \n",
       "3  112.065109   NaN    NaN   NaN    NaN   NaN    NaN  0.011087  \n",
       "4  113.091560   NaN    NaN   NaN    NaN   NaN    NaN  0.009118  "
      ]
     },
     "execution_count": 8,
     "metadata": {},
     "output_type": "execute_result"
    }
   ],
   "source": [
    "df.head()"
   ]
  },
  {
   "cell_type": "code",
   "execution_count": 9,
   "metadata": {},
   "outputs": [
    {
     "data": {
      "text/plain": [
       "Index(['Date', 'High', 'Low', 'Open', 'Close', 'Volume', 'Adj Close', 'mv10',\n",
       "       'prf10', 'mv30', 'prf30', 'mv90', 'prf90', 'log_pro'],\n",
       "      dtype='object')"
      ]
     },
     "execution_count": 9,
     "metadata": {},
     "output_type": "execute_result"
    }
   ],
   "source": [
    "df.columns"
   ]
  },
  {
   "cell_type": "code",
   "execution_count": 10,
   "metadata": {},
   "outputs": [
    {
     "data": {
      "text/plain": [
       "(889, 14)"
      ]
     },
     "execution_count": 10,
     "metadata": {},
     "output_type": "execute_result"
    }
   ],
   "source": [
    "df.shape"
   ]
  },
  {
   "cell_type": "code",
   "execution_count": 11,
   "metadata": {},
   "outputs": [],
   "source": [
    "# f,ax = plt.subplots(3,1,figsize=(22,15))\n",
    "\n",
    "# p_col=[\"Close\"]\n",
    "# col0 = p_col + [ col for col in df.columns if \"mv\" in col]\n",
    "# col1 = [ col for col in df.columns if \"prf\" in col]\n",
    "# col2 = [col for col in df.columns if \"log\" in col]\n",
    "# length= df.shape[0]\n",
    "# for col in col0:\n",
    "#     ax[0].plot(df[col].values, label=col)\n",
    "# #     ax[0].legend()\n",
    "    \n",
    "# for col in col1:\n",
    "#     ax[1].plot(df[col].values, label=col)\n",
    "#     ax[1].set_ylim(-1,1)\n",
    "#     ax[1].legend()\n",
    "    \n",
    "# for col in col2:\n",
    "#     ax[2].plot(df[col].values, label=col)\n",
    "#     ax[2].legend()\n",
    "\n",
    "# for i in range(3):\n",
    "#     ax[i].set_title(title, pad=-15)\n",
    "#     ax[i].set_xticks(np.arange(0,length,30))\n",
    "#     ax[i].set_xticklabels(df[\"Date\"].values[0:length:30],rotation=45)\n",
    "# plt.show()"
   ]
  },
  {
   "cell_type": "code",
   "execution_count": 13,
   "metadata": {},
   "outputs": [
    {
     "ename": "NameError",
     "evalue": "name 'plt' is not defined",
     "output_type": "error",
     "traceback": [
      "\u001b[0;31m--------------------------------------------------------------\u001b[0m",
      "\u001b[0;31mNameError\u001b[0m                    Traceback (most recent call last)",
      "\u001b[0;32m<ipython-input-13-6499933905c1>\u001b[0m in \u001b[0;36m<module>\u001b[0;34m\u001b[0m\n\u001b[0;32m----> 1\u001b[0;31m \u001b[0mst\u001b[0m\u001b[0;34m.\u001b[0m\u001b[0mplot_1com\u001b[0m\u001b[0;34m(\u001b[0m\u001b[0mdf\u001b[0m\u001b[0;34m,\u001b[0m \u001b[0;34m\"AAPL\"\u001b[0m\u001b[0;34m)\u001b[0m\u001b[0;34m\u001b[0m\u001b[0;34m\u001b[0m\u001b[0m\n\u001b[0m",
      "\u001b[0;32m~/work/sori-py2/stock/tool/m01_stock.py\u001b[0m in \u001b[0;36mplot_1com\u001b[0;34m(self, df, ticker, colname)\u001b[0m\n\u001b[1;32m     57\u001b[0m \u001b[0;34m\u001b[0m\u001b[0m\n\u001b[1;32m     58\u001b[0m   \u001b[0;32mdef\u001b[0m \u001b[0mplot_1com\u001b[0m\u001b[0;34m(\u001b[0m\u001b[0mself\u001b[0m\u001b[0;34m,\u001b[0m\u001b[0mdf\u001b[0m\u001b[0;34m,\u001b[0m\u001b[0mticker\u001b[0m\u001b[0;34m,\u001b[0m\u001b[0mcolname\u001b[0m\u001b[0;34m=\u001b[0m\u001b[0;34m\"Close\"\u001b[0m\u001b[0;34m)\u001b[0m\u001b[0;34m:\u001b[0m\u001b[0;34m\u001b[0m\u001b[0;34m\u001b[0m\u001b[0m\n\u001b[0;32m---> 59\u001b[0;31m     \u001b[0mf\u001b[0m\u001b[0;34m,\u001b[0m\u001b[0max\u001b[0m \u001b[0;34m=\u001b[0m \u001b[0mplt\u001b[0m\u001b[0;34m.\u001b[0m\u001b[0msubplots\u001b[0m\u001b[0;34m(\u001b[0m\u001b[0;36m3\u001b[0m\u001b[0;34m,\u001b[0m\u001b[0;36m1\u001b[0m\u001b[0;34m,\u001b[0m\u001b[0mfigsize\u001b[0m\u001b[0;34m=\u001b[0m\u001b[0;34m(\u001b[0m\u001b[0;36m22\u001b[0m\u001b[0;34m,\u001b[0m\u001b[0;36m15\u001b[0m\u001b[0;34m)\u001b[0m\u001b[0;34m)\u001b[0m\u001b[0;34m\u001b[0m\u001b[0;34m\u001b[0m\u001b[0m\n\u001b[0m\u001b[1;32m     60\u001b[0m \u001b[0;34m\u001b[0m\u001b[0m\n\u001b[1;32m     61\u001b[0m     \u001b[0mp_col\u001b[0m\u001b[0;34m=\u001b[0m\u001b[0;34m[\u001b[0m\u001b[0mcolname\u001b[0m\u001b[0;34m]\u001b[0m\u001b[0;34m\u001b[0m\u001b[0;34m\u001b[0m\u001b[0m\n",
      "\u001b[0;31mNameError\u001b[0m: name 'plt' is not defined"
     ]
    }
   ],
   "source": [
    "st.plot_1com(df, \"AAPL\")"
   ]
  },
  {
   "cell_type": "code",
   "execution_count": null,
   "metadata": {},
   "outputs": [],
   "source": []
  }
 ],
 "metadata": {
  "kernelspec": {
   "display_name": "Python 3",
   "language": "python",
   "name": "python3"
  },
  "language_info": {
   "codemirror_mode": {
    "name": "ipython",
    "version": 3
   },
   "file_extension": ".py",
   "mimetype": "text/x-python",
   "name": "python",
   "nbconvert_exporter": "python",
   "pygments_lexer": "ipython3",
   "version": "3.6.8"
  }
 },
 "nbformat": 4,
 "nbformat_minor": 4
}
